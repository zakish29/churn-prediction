{
 "cells": [
  {
   "cell_type": "code",
   "execution_count": 13,
   "metadata": {},
   "outputs": [],
   "source": [
    "# Load the Models\n",
    "\n",
    "import pandas as pd\n",
    "import numpy as np\n",
    "import pickle\n",
    "from tensorflow.keras.models import load_model"
   ]
  },
  {
   "cell_type": "code",
   "execution_count": 14,
   "metadata": {},
   "outputs": [
    {
     "name": "stdout",
     "output_type": "stream",
     "text": [
      "WARNING:tensorflow:Error in loading the saved optimizer state. As a result, your model is starting with a freshly initialized optimizer.\n"
     ]
    }
   ],
   "source": [
    "with open('pipeline.pkl', 'rb') as file_1:\n",
    "  model_pipeline = pickle.load(file_1)\n",
    "\n",
    "model_churn = load_model('churn_model.h5')"
   ]
  },
  {
   "cell_type": "code",
   "execution_count": 15,
   "metadata": {},
   "outputs": [],
   "source": [
    "data_inf = {\n",
    "    'age': 29,\n",
    "    'gender' : 'M',\n",
    "    'region_category' : 'City',\n",
    "    'membership_category': 'Basic Membership',\n",
    "    'joined_through_referral': 'Yes',\n",
    "    'preferred_offer_types': 'Credit/Debit Card Offers',\n",
    "    'medium_of_operation': 'Desktop',\n",
    "    'internet_option': 'Fiber_Optic',\n",
    "    'days_since_last_login': 10,\n",
    "    'avg_time_spent': 338.15,\n",
    "    'avg_frequency_login_days': 17.0,\n",
    "    'points_in_wallet': 575.97,\n",
    "    'used_special_discount': 'Yes',\n",
    "    'offer_application_preference': 'Yes',\n",
    "    'past_complaint': 'Yes',\n",
    "    'complaint_status': 'No Information Available',\n",
    "    'feedback': 'Poor Website',\n",
    "    'year': 2019,\n",
    "    'month': 11,\n",
    "    'day': 20,\n",
    "    'last_visit_time_hh': 20,\n",
    "    'last_visit_time_mm': 20\n",
    "}"
   ]
  },
  {
   "cell_type": "code",
   "execution_count": 16,
   "metadata": {},
   "outputs": [
    {
     "data": {
      "text/html": [
       "<div>\n",
       "<style scoped>\n",
       "    .dataframe tbody tr th:only-of-type {\n",
       "        vertical-align: middle;\n",
       "    }\n",
       "\n",
       "    .dataframe tbody tr th {\n",
       "        vertical-align: top;\n",
       "    }\n",
       "\n",
       "    .dataframe thead th {\n",
       "        text-align: right;\n",
       "    }\n",
       "</style>\n",
       "<table border=\"1\" class=\"dataframe\">\n",
       "  <thead>\n",
       "    <tr style=\"text-align: right;\">\n",
       "      <th></th>\n",
       "      <th>age</th>\n",
       "      <th>gender</th>\n",
       "      <th>region_category</th>\n",
       "      <th>membership_category</th>\n",
       "      <th>joined_through_referral</th>\n",
       "      <th>preferred_offer_types</th>\n",
       "      <th>medium_of_operation</th>\n",
       "      <th>internet_option</th>\n",
       "      <th>days_since_last_login</th>\n",
       "      <th>avg_time_spent</th>\n",
       "      <th>...</th>\n",
       "      <th>used_special_discount</th>\n",
       "      <th>offer_application_preference</th>\n",
       "      <th>past_complaint</th>\n",
       "      <th>complaint_status</th>\n",
       "      <th>feedback</th>\n",
       "      <th>year</th>\n",
       "      <th>month</th>\n",
       "      <th>day</th>\n",
       "      <th>last_visit_time_hh</th>\n",
       "      <th>last_visit_time_mm</th>\n",
       "    </tr>\n",
       "  </thead>\n",
       "  <tbody>\n",
       "    <tr>\n",
       "      <th>0</th>\n",
       "      <td>29</td>\n",
       "      <td>M</td>\n",
       "      <td>City</td>\n",
       "      <td>Basic Membership</td>\n",
       "      <td>Yes</td>\n",
       "      <td>Credit/Debit Card Offers</td>\n",
       "      <td>Desktop</td>\n",
       "      <td>Fiber_Optic</td>\n",
       "      <td>10</td>\n",
       "      <td>338.15</td>\n",
       "      <td>...</td>\n",
       "      <td>Yes</td>\n",
       "      <td>Yes</td>\n",
       "      <td>Yes</td>\n",
       "      <td>No Information Available</td>\n",
       "      <td>Poor Website</td>\n",
       "      <td>2019</td>\n",
       "      <td>11</td>\n",
       "      <td>20</td>\n",
       "      <td>20</td>\n",
       "      <td>20</td>\n",
       "    </tr>\n",
       "  </tbody>\n",
       "</table>\n",
       "<p>1 rows × 22 columns</p>\n",
       "</div>"
      ],
      "text/plain": [
       "   age gender region_category membership_category joined_through_referral  \\\n",
       "0   29      M            City    Basic Membership                     Yes   \n",
       "\n",
       "      preferred_offer_types medium_of_operation internet_option  \\\n",
       "0  Credit/Debit Card Offers             Desktop     Fiber_Optic   \n",
       "\n",
       "   days_since_last_login  avg_time_spent  ...  used_special_discount  \\\n",
       "0                     10          338.15  ...                    Yes   \n",
       "\n",
       "   offer_application_preference past_complaint          complaint_status  \\\n",
       "0                           Yes            Yes  No Information Available   \n",
       "\n",
       "       feedback  year month  day  last_visit_time_hh  last_visit_time_mm  \n",
       "0  Poor Website  2019    11   20                  20                  20  \n",
       "\n",
       "[1 rows x 22 columns]"
      ]
     },
     "execution_count": 16,
     "metadata": {},
     "output_type": "execute_result"
    }
   ],
   "source": [
    "# create data inf\n",
    "data_inf = pd.DataFrame([data_inf])\n",
    "data_inf "
   ]
  },
  {
   "cell_type": "code",
   "execution_count": 17,
   "metadata": {},
   "outputs": [],
   "source": [
    "# Transform Inference-Set\n",
    "data_inf_transform = model_pipeline.transform(data_inf)"
   ]
  },
  {
   "cell_type": "code",
   "execution_count": 18,
   "metadata": {},
   "outputs": [
    {
     "name": "stdout",
     "output_type": "stream",
     "text": [
      "1/1 [==============================] - 0s 138ms/step\n"
     ]
    },
    {
     "data": {
      "text/plain": [
       "array([[1]])"
      ]
     },
     "execution_count": 18,
     "metadata": {},
     "output_type": "execute_result"
    }
   ],
   "source": [
    "y_pred_inf = model_churn.predict(data_inf_transform)\n",
    "y_pred_inf = np.where(y_pred_inf >= 0.5, 1, 0)\n",
    "y_pred_inf"
   ]
  }
 ],
 "metadata": {
  "kernelspec": {
   "display_name": "base",
   "language": "python",
   "name": "python3"
  },
  "language_info": {
   "codemirror_mode": {
    "name": "ipython",
    "version": 3
   },
   "file_extension": ".py",
   "mimetype": "text/x-python",
   "name": "python",
   "nbconvert_exporter": "python",
   "pygments_lexer": "ipython3",
   "version": "3.9.13"
  },
  "orig_nbformat": 4
 },
 "nbformat": 4,
 "nbformat_minor": 2
}
